{
 "cells": [
  {
   "cell_type": "code",
   "execution_count": 6,
   "metadata": {},
   "outputs": [
    {
     "ename": "SyntaxError",
     "evalue": "Identifier 'Conf' has already been declared",
     "execution_count": 6,
     "output_type": "error",
     "traceback": [
      "evalmachine.<anonymous>:1",
      "const Conf = require('conf');",
      "^",
      "",
      "SyntaxError: Identifier 'Conf' has already been declared",
      "    at evalmachine.<anonymous>:1:1",
      "    at Script.runInThisContext (vm.js:65:33)",
      "    at Object.runInThisContext (vm.js:197:38)",
      "    at run ([eval]:1054:15)",
      "    at onRunRequest ([eval]:888:18)",
      "    at onMessage ([eval]:848:13)",
      "    at process.emit (events.js:180:13)",
      "    at emit (internal/child_process.js:783:12)",
      "    at process._tickCallback (internal/process/next_tick.js:114:19)"
     ]
    }
   ],
   "source": [
    "const Conf = require('conf');\n",
    "const path = require('path');\n",
    "\n",
    "const conf = new Conf({defaults: {\n",
    "    destination: path.resolve(`${process.env.HOME}/Documents/vartiste`),\n",
    "    source: path.resolve(`E:/Downloads`)\n",
    "}})"
   ]
  },
  {
   "cell_type": "code",
   "execution_count": 11,
   "metadata": {},
   "outputs": [],
   "source": [
    "// var path = require('path')\n",
    "var destination = path.resolve(conf.get('destination'))"
   ]
  },
  {
   "cell_type": "code",
   "execution_count": 3,
   "metadata": {},
   "outputs": [],
   "source": [
    "var ls = require('ls')"
   ]
  },
  {
   "cell_type": "code",
   "execution_count": 14,
   "metadata": {},
   "outputs": [
    {
     "data": {
      "text/plain": [
       "[ { path: 'E:/',\n",
       "    full: 'E:/Downloads',\n",
       "    file: 'Downloads',\n",
       "    name: 'Downloads' } ]"
      ]
     },
     "execution_count": 14,
     "metadata": {},
     "output_type": "execute_result"
    }
   ],
   "source": [
    "ls(conf.get(\"source\"))"
   ]
  },
  {
   "cell_type": "code",
   "execution_count": 13,
   "metadata": {},
   "outputs": [
    {
     "data": {
      "text/plain": [
       "[ { path: '.', full: '.', file: '.', name: '.' } ]"
      ]
     },
     "execution_count": 13,
     "metadata": {},
     "output_type": "execute_result"
    }
   ],
   "source": [
    "ls(\".\")"
   ]
  },
  {
   "cell_type": "code",
   "execution_count": 15,
   "metadata": {},
   "outputs": [],
   "source": [
    "const mkdirp = require('mkdirp').sync"
   ]
  },
  {
   "cell_type": "code",
   "execution_count": 16,
   "metadata": {},
   "outputs": [
    {
     "data": {
      "text/plain": [
       "'C:\\\\Users\\\\Admin\\\\Documents\\\\vartiste'"
      ]
     },
     "execution_count": 16,
     "metadata": {},
     "output_type": "execute_result"
    }
   ],
   "source": [
    "mkdirp(destination)"
   ]
  },
  {
   "cell_type": "code",
   "execution_count": 17,
   "metadata": {},
   "outputs": [
    {
     "data": {
      "text/plain": [
       "[ { path: 'C:/Users/Admin/Documents',\n",
       "    full: 'C:/Users/Admin/Documents/vartiste',\n",
       "    file: 'vartiste',\n",
       "    name: 'vartiste' } ]"
      ]
     },
     "execution_count": 17,
     "metadata": {},
     "output_type": "execute_result"
    }
   ],
   "source": [
    "ls(destination)"
   ]
  },
  {
   "cell_type": "code",
   "execution_count": 26,
   "metadata": {},
   "outputs": [
    {
     "data": {
      "text/plain": [
       "'E:\\\\Downloads'"
      ]
     },
     "execution_count": 26,
     "metadata": {},
     "output_type": "execute_result"
    }
   ],
   "source": [
    "asource = path.resolve(conf.get(\"source\"))"
   ]
  },
  {
   "cell_type": "code",
   "execution_count": null,
   "metadata": {},
   "outputs": [],
   "source": [
    "ls(`${asource}/*.vartiste`)"
   ]
  },
  {
   "cell_type": "code",
   "execution_count": 113,
   "metadata": {},
   "outputs": [
    {
     "data": {
      "text/plain": [
       "true"
      ]
     },
     "execution_count": 113,
     "metadata": {},
     "output_type": "execute_result"
    }
   ],
   "source": [
    "delete require.cache[require.resolve('./download-sorter.js')];\n",
    "var {DownloadSorter, Project} = require('./download-sorter.js')"
   ]
  },
  {
   "cell_type": "code",
   "execution_count": 114,
   "metadata": {},
   "outputs": [],
   "source": [
    "var ds = new DownloadSorter()"
   ]
  },
  {
   "cell_type": "code",
   "execution_count": 115,
   "metadata": {},
   "outputs": [],
   "source": [
    "ds.takeStock()"
   ]
  },
  {
   "cell_type": "code",
   "execution_count": 104,
   "metadata": {},
   "outputs": [
    {
     "data": {
      "text/plain": [
       "[ Project {\n",
       "    name: 'bday',\n",
       "    path: 'C:/Users/Admin/Documents/vartiste/bday',\n",
       "    regex: /^bday-\\d{4}-\\d{2}-\\d{2}T\\d{2}/ },\n",
       "  Project {\n",
       "    name: 'birdbowl_a',\n",
       "    path: 'C:/Users/Admin/Documents/vartiste/birdbowl_a',\n",
       "    regex: /^birdbowl_a-\\d{4}-\\d{2}-\\d{2}T\\d{2}/ },\n",
       "  Project {\n",
       "    name: 'carl',\n",
       "    path: 'C:/Users/Admin/Documents/vartiste/carl',\n",
       "    regex: /^carl-\\d{4}-\\d{2}-\\d{2}T\\d{2}/ },\n",
       "  Project {\n",
       "    name: 'name',\n",
       "    path: 'C:/Users/Admin/Documents/vartiste/name',\n",
       "    regex: /^name-\\d{4}-\\d{2}-\\d{2}T\\d{2}/ },\n",
       "  Project {\n",
       "    name: 'birdcup_c',\n",
       "    path: 'C:\\\\Users\\\\Admin\\\\Documents\\\\vartiste\\\\birdcup_c',\n",
       "    regex: /^birdcup_c-\\d{4}-\\d{2}-\\d{2}T\\d{2}/ },\n",
       "  Project {\n",
       "    name: 'birdcup',\n",
       "    path: 'C:\\\\Users\\\\Admin\\\\Documents\\\\vartiste\\\\birdcup',\n",
       "    regex: /^birdcup-\\d{4}-\\d{2}-\\d{2}T\\d{2}/ },\n",
       "  Project {\n",
       "    name: 'blurtest',\n",
       "    path: 'C:\\\\Users\\\\Admin\\\\Documents\\\\vartiste\\\\blurtest',\n",
       "    regex: /^blurtest-\\d{4}-\\d{2}-\\d{2}T\\d{2}/ },\n",
       "  Project {\n",
       "    name: 'bunny',\n",
       "    path: 'C:\\\\Users\\\\Admin\\\\Documents\\\\vartiste\\\\bunny',\n",
       "    regex: /^bunny-\\d{4}-\\d{2}-\\d{2}T\\d{2}/ },\n",
       "  Project {\n",
       "    name: 'dancer',\n",
       "    path: 'C:\\\\Users\\\\Admin\\\\Documents\\\\vartiste\\\\dancer',\n",
       "    regex: /^dancer-\\d{4}-\\d{2}-\\d{2}T\\d{2}/ },\n",
       "  Project {\n",
       "    name: 'easterbg',\n",
       "    path: 'C:\\\\Users\\\\Admin\\\\Documents\\\\vartiste\\\\easterbg',\n",
       "    regex: /^easterbg-\\d{4}-\\d{2}-\\d{2}T\\d{2}/ },\n",
       "  Project {\n",
       "    name: 'envtest',\n",
       "    path: 'C:\\\\Users\\\\Admin\\\\Documents\\\\vartiste\\\\envtest',\n",
       "    regex: /^envtest-\\d{4}-\\d{2}-\\d{2}T\\d{2}/ },\n",
       "  Project {\n",
       "    name: 'fruit',\n",
       "    path: 'C:\\\\Users\\\\Admin\\\\Documents\\\\vartiste\\\\fruit',\n",
       "    regex: /^fruit-\\d{4}-\\d{2}-\\d{2}T\\d{2}/ },\n",
       "  Project {\n",
       "    name: 'hiw',\n",
       "    path: 'C:\\\\Users\\\\Admin\\\\Documents\\\\vartiste\\\\hiw',\n",
       "    regex: /^hiw-\\d{4}-\\d{2}-\\d{2}T\\d{2}/ },\n",
       "  Project {\n",
       "    name: 'hubatar',\n",
       "    path: 'C:\\\\Users\\\\Admin\\\\Documents\\\\vartiste\\\\hubatar',\n",
       "    regex: /^hubatar-\\d{4}-\\d{2}-\\d{2}T\\d{2}/ },\n",
       "  Project {\n",
       "    name: 'logo_node',\n",
       "    path: 'C:\\\\Users\\\\Admin\\\\Documents\\\\vartiste\\\\logo_node',\n",
       "    regex: /^logo_node-\\d{4}-\\d{2}-\\d{2}T\\d{2}/ },\n",
       "  Project {\n",
       "    name: 'matrxtst',\n",
       "    path: 'C:\\\\Users\\\\Admin\\\\Documents\\\\vartiste\\\\matrxtst',\n",
       "    regex: /^matrxtst-\\d{4}-\\d{2}-\\d{2}T\\d{2}/ },\n",
       "  Project {\n",
       "    name: 'meredith',\n",
       "    path: 'C:\\\\Users\\\\Admin\\\\Documents\\\\vartiste\\\\meredith',\n",
       "    regex: /^meredith-\\d{4}-\\d{2}-\\d{2}T\\d{2}/ },\n",
       "  Project {\n",
       "    name: 'mermaid',\n",
       "    path: 'C:\\\\Users\\\\Admin\\\\Documents\\\\vartiste\\\\mermaid',\n",
       "    regex: /^mermaid-\\d{4}-\\d{2}-\\d{2}T\\d{2}/ },\n",
       "  Project {\n",
       "    name: 'mole_in_the_ground',\n",
       "    path: 'C:\\\\Users\\\\Admin\\\\Documents\\\\vartiste\\\\mole_in_the_ground',\n",
       "    regex: /^mole_in_the_ground-\\d{4}-\\d{2}-\\d{2}T\\d{2}/ },\n",
       "  Project {\n",
       "    name: 'move_node',\n",
       "    path: 'C:\\\\Users\\\\Admin\\\\Documents\\\\vartiste\\\\move_node',\n",
       "    regex: /^move_node-\\d{4}-\\d{2}-\\d{2}T\\d{2}/ },\n",
       "  Project {\n",
       "    name: 'orse',\n",
       "    path: 'C:\\\\Users\\\\Admin\\\\Documents\\\\vartiste\\\\orse',\n",
       "    regex: /^orse-\\d{4}-\\d{2}-\\d{2}T\\d{2}/ },\n",
       "  Project {\n",
       "    name: 'project',\n",
       "    path: 'C:\\\\Users\\\\Admin\\\\Documents\\\\vartiste\\\\project',\n",
       "    regex: /^project-\\d{4}-\\d{2}-\\d{2}T\\d{2}/ },\n",
       "  Project {\n",
       "    name: 'qwe',\n",
       "    path: 'C:\\\\Users\\\\Admin\\\\Documents\\\\vartiste\\\\qwe',\n",
       "    regex: /^qwe-\\d{4}-\\d{2}-\\d{2}T\\d{2}/ },\n",
       "  Project {\n",
       "    name: 'statue',\n",
       "    path: 'C:\\\\Users\\\\Admin\\\\Documents\\\\vartiste\\\\statue',\n",
       "    regex: /^statue-\\d{4}-\\d{2}-\\d{2}T\\d{2}/ },\n",
       "  Project {\n",
       "    name: 'tatoo',\n",
       "    path: 'C:\\\\Users\\\\Admin\\\\Documents\\\\vartiste\\\\tatoo',\n",
       "    regex: /^tatoo-\\d{4}-\\d{2}-\\d{2}T\\d{2}/ },\n",
       "  Project {\n",
       "    name: 'tutorial',\n",
       "    path: 'C:\\\\Users\\\\Admin\\\\Documents\\\\vartiste\\\\tutorial',\n",
       "    regex: /^tutorial-\\d{4}-\\d{2}-\\d{2}T\\d{2}/ },\n",
       "  Project {\n",
       "    name: 'vartiste-project',\n",
       "    path: 'C:\\\\Users\\\\Admin\\\\Documents\\\\vartiste\\\\vartiste-project',\n",
       "    regex: /^vartiste-project-\\d{4}-\\d{2}-\\d{2}T\\d{2}/ } ]"
      ]
     },
     "execution_count": 104,
     "metadata": {},
     "output_type": "execute_result"
    }
   ],
   "source": [
    "ds.projects"
   ]
  },
  {
   "cell_type": "code",
   "execution_count": 102,
   "metadata": {},
   "outputs": [
    {
     "data": {
      "text/plain": [
       "false"
      ]
     },
     "execution_count": 102,
     "metadata": {},
     "output_type": "execute_result"
    }
   ],
   "source": [
    "new RegExp(`^${ds.projects[0].name}-\\\\d{4}-\\\\d{2}-\\\\d{2}T\\\\d{2}`).test(\"carl-2020-03-01T20 (1).vartiste\")"
   ]
  },
  {
   "cell_type": "code",
   "execution_count": 50,
   "metadata": {},
   "outputs": [
    {
     "data": {
      "text/plain": [
       "[Function: some]"
      ]
     },
     "execution_count": 50,
     "metadata": {},
     "output_type": "execute_result"
    }
   ],
   "source": [
    "ds.projects.some"
   ]
  },
  {
   "cell_type": "code",
   "execution_count": 59,
   "metadata": {},
   "outputs": [
    {
     "data": {
      "text/plain": [
       "'dancer'"
      ]
     },
     "execution_count": 59,
     "metadata": {},
     "output_type": "execute_result"
    }
   ],
   "source": [
    "\"dancer-2020-03-01T20 (1).vartiste\".match(/^(.*)-\\d{4}-\\d{2}-\\d{2}T\\d{2}/)[1]"
   ]
  },
  {
   "cell_type": "code",
   "execution_count": 103,
   "metadata": {},
   "outputs": [],
   "source": [
    "ds.createCandidateProjects()"
   ]
  },
  {
   "cell_type": "code",
   "execution_count": null,
   "metadata": {},
   "outputs": [],
   "source": [
    "ls(`${ds.source}/*.{vartiste,png,webm,glb}`)"
   ]
  },
  {
   "cell_type": "code",
   "execution_count": 116,
   "metadata": {},
   "outputs": [],
   "source": [
    "ds.sort()"
   ]
  },
  {
   "cell_type": "code",
   "execution_count": 112,
   "metadata": {},
   "outputs": [],
   "source": [
    "ds.projects"
   ]
  },
  {
   "cell_type": "code",
   "execution_count": null,
   "metadata": {},
   "outputs": [],
   "source": []
  }
 ],
 "metadata": {
  "kernelspec": {
   "display_name": "Javascript (Node.js)",
   "language": "javascript",
   "name": "javascript"
  },
  "language_info": {
   "file_extension": ".js",
   "mimetype": "application/javascript",
   "name": "javascript",
   "version": "9.9.0"
  }
 },
 "nbformat": 4,
 "nbformat_minor": 2
}
